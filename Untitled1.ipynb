{
 "cells": [
  {
   "cell_type": "code",
   "execution_count": 1,
   "id": "everyday-avatar",
   "metadata": {},
   "outputs": [],
   "source": [
    "import numpy as np\n",
    "import math\n",
    "import pandas as pd\n",
    "import matplotlib.pyplot as plt\n",
    "from matplotlib.pyplot import figure\n",
    "from matplotlib import gridspec\n",
    "from mpl_toolkits.axes_grid1 import make_axes_locatable\n",
    "\n",
    "import tensorflow as tf\n",
    "from tensorflow.keras.utils import to_categorical\n",
    "from tensorflow.keras import models\n",
    "from tensorflow.keras import layers\n",
    "from tensorflow.keras.models import Sequential\n",
    "from tensorflow.keras.initializers import RandomNormal, Constant\n",
    "from tensorflow.keras import regularizers\n",
    "\n",
    "from sklearn.utils import class_weight\n",
    "from sklearn.utils import shuffle\n",
    "from sklearn.model_selection import train_test_split\n",
    "\n",
    "\n",
    "def integral(y,x,bins):\n",
    "    x_min=x\n",
    "    s=0\n",
    "    for i in np.where(bins>x)[0][:-1]:\n",
    "#        s=s+y[i]*(bins[i+1]-bins[i])\n",
    "#        print(i,s)\n",
    "        s=s+y[i]*(bins[i+1]-bins[i])\n",
    "    return s\n",
    "\n",
    "class ROC:\n",
    "    def __init__(self,MVA_model,X_test_scaled,y_test,MVA_model_name):\n",
    "#        noise_score_1=MVA_model.predict(X_test_scaled[np.where(y_test==1)])[:,0]\n",
    "#        noise_score_0=MVA_model.predict(X_test_scaled[np.where(y_test==0)])[:,0]\n",
    "        signal_score_1=MVA_model.predict(X_test_scaled[np.where(y_test==1)])[:,1]\n",
    "        signal_score_0=MVA_model.predict(X_test_scaled[np.where(y_test==0)])[:,1]\n",
    "    \n",
    "        matplotlib.rc('font', size=12)\n",
    "        matplotlib.rc('axes', titlesize=12)\n",
    "        \n",
    "        Nbins=1000\n",
    "        bin_range=np.arange(0,Nbins+1)/Nbins\n",
    "        y_signal,bins_1,_=plt.hist(signal_score_1, bins=bin_range, alpha=1, label='Signal',histtype='step')#, density=True\n",
    "        y_bkg,bins_0,_=plt.hist(signal_score_0, bins=bin_range, alpha=1, label='Background',histtype='step')#, density=True\n",
    "        plt.yscale('log')\n",
    "        plt.legend()\n",
    "        plt.xlabel('MVA score')\n",
    "        plt.savefig(MVA_model_name+'_score.pdf')\n",
    "        plt.show()\n",
    "\n",
    "        Nsignal=integral(y_signal,0,bins_1)\n",
    "        Nbkg=integral(y_bkg,0,bins_0)\n",
    "        signal_eff=np.array([])\n",
    "        bkg_eff=np.array([])\n",
    "        y_s=0\n",
    "        y_n=0\n",
    "        for i in range(0,Nbins+1):\n",
    "            x=i/Nbins\n",
    "            y_s=integral(y_signal,x,bins_1)/Nsignal\n",
    "            y_n=integral(y_bkg,x,bins_0)/Nbkg\n",
    "            signal_eff=np.append(signal_eff,y_s)\n",
    "            bkg_eff=np.append(bkg_eff,y_n)\n",
    "\n",
    "        #Area=round(1000*integral(signal_eff,0)/Nbins)/1000\n",
    "        res=1e5\n",
    "        Area=round(res*abs(integral(signal_eff,0,bkg_eff)))/res\n",
    "        \n",
    "        lab='Area: '+str(Area)\n",
    "        plt.plot(bkg_eff,signal_eff,label=lab)\n",
    "        plt.plot([0,1],[0,1])\n",
    "        plt.xlabel('False Positive Rate')\n",
    "        plt.ylabel('True Positive Rate')\n",
    "        #plt.xlim([0.001,1])\n",
    "        #plt.yscale('log')\n",
    "        plt.title('ROC curve')\n",
    "        plt.legend()\n",
    "#        plt.savefig('ROC_'+MVA_model_name+'.pdf')\n",
    "        plt.show()\n",
    "\n",
    "        WP=[0.90,0.94,0.97,0.99]\n",
    "        rej=1./bkg_eff\n",
    "        WP_idx=[np.where(np.abs(signal_eff-WP[i])==np.min(np.abs(signal_eff-WP[i])))[0][0] for i in range(0,len(WP))]\n",
    "        #rej[WP_idx]\n",
    "        WP_rej=[str(round(10*rej[WP_idx[i]])/10) for i in range(0,len(WP))]\n",
    "        print(WP_rej)\n",
    "\n",
    "        plt.plot(signal_eff,rej)\n",
    "        for i in range(0,len(WP)):\n",
    "            plt.axvline(x=WP[i],color='Red',linestyle='dashed',label='Bkg Rejection @ '+str(WP[i])+' WP: '+WP_rej[i])\n",
    "        plt.xlabel('Signal efficiency')\n",
    "        plt.ylabel('Background rejection')\n",
    "        plt.xlim([0.8,1])\n",
    "        plt.yscale('log')\n",
    "        plt.title('ROC curve')\n",
    "        plt.legend()\n",
    "#        plt.savefig('rejection_ROC_'+MVA_model_name+'.pdf')\n",
    "        plt.show()\n",
    "        \n",
    "        self.auc=Area\n",
    "        self.signal_eff=signal_eff\n",
    "        self.bkg_eff=bkg_eff\n",
    "        self.bkg_rej=rej\n",
    "        self.WP=WP\n",
    "        self.WP_rej=WP_rej\n",
    "        self.y_sig=y_signal\n",
    "        self.bins_sig=bins_1\n",
    "        self.y_bkg=y_bkg\n",
    "        self.bins_bkg=bins_0\n",
    "        "
   ]
  },
  {
   "cell_type": "code",
   "execution_count": 2,
   "id": "spectacular-location",
   "metadata": {},
   "outputs": [],
   "source": [
    "data=np.load('./data/data.npy')\n",
    "labels=np.load('./data/labels.npy')"
   ]
  },
  {
   "cell_type": "code",
   "execution_count": 58,
   "id": "brown-story",
   "metadata": {},
   "outputs": [],
   "source": [
    "from sklearn.preprocessing import StandardScaler\n",
    "from sklearn.decomposition import PCA"
   ]
  },
  {
   "cell_type": "code",
   "execution_count": 51,
   "id": "animal-baking",
   "metadata": {},
   "outputs": [],
   "source": [
    "shape=data[:,:,0].shape"
   ]
  },
  {
   "cell_type": "code",
   "execution_count": 38,
   "id": "altered-declaration",
   "metadata": {},
   "outputs": [],
   "source": [
    "channel=0\n",
    "\n",
    "scaler_0 = StandardScaler()\n",
    "scaler.fit(data[:,:,channel])\n",
    "n_data_0=scaler.transform(data[:,:,channel])"
   ]
  },
  {
   "cell_type": "code",
   "execution_count": 132,
   "id": "abstract-validity",
   "metadata": {},
   "outputs": [],
   "source": [
    "def p4(n_data_0):\n",
    "    p0_pixel=n_data_0[:,:]\n",
    "#    np.mean(p0_pixel)\n",
    "\n",
    "    p2_pixel=p0_pixel*p0_pixel\n",
    "#    np.mean(p2_pixel)/(np.mean(p0_pixel)**2)\n",
    "\n",
    "    p4_pixel=p2_pixel*p2_pixel\n",
    "    p8_pixel=p4_pixel*p4_pixel\n",
    "    return np.mean(p4_pixel)/(np.mean(p2_pixel)**2),np.mean(p8_pixel)/(np.mean(p4_pixel)**2)"
   ]
  },
  {
   "cell_type": "code",
   "execution_count": 48,
   "id": "satisfied-pattern",
   "metadata": {},
   "outputs": [
    {
     "data": {
      "text/plain": [
       "6.061714418138771"
      ]
     },
     "execution_count": 48,
     "metadata": {},
     "output_type": "execute_result"
    }
   ],
   "source": [
    "p4(n_data_0)"
   ]
  },
  {
   "cell_type": "code",
   "execution_count": 56,
   "id": "infectious-maker",
   "metadata": {},
   "outputs": [],
   "source": [
    "normal_data=np.random.normal(0,1,shape)"
   ]
  },
  {
   "cell_type": "code",
   "execution_count": 131,
   "id": "dependent-essex",
   "metadata": {},
   "outputs": [
    {
     "data": {
      "text/plain": [
       "(2.9960480885102623, 11.608695606246732)"
      ]
     },
     "execution_count": 131,
     "metadata": {},
     "output_type": "execute_result"
    }
   ],
   "source": [
    "p4(normal_data),p8(normal_data)"
   ]
  },
  {
   "cell_type": "code",
   "execution_count": 133,
   "id": "documented-guard",
   "metadata": {},
   "outputs": [],
   "source": [
    "p4_vec=np.array([])\n",
    "p8_vec=np.array([])\n",
    "fraction_remaning_modes=np.array([])\n",
    "for n in np.arange(1,22):\n",
    "    pca = PCA(n_components=n)\n",
    "    pca.fit(n_data_0)\n",
    "    #expl_variance=pca.explained_variance_\n",
    "    #fractional_rank=np.cumsum(expl_variance[::-1])/np.sum(expl_variance)\n",
    "    x,y=p4(pca.fit_transform(n_data_0))\n",
    "    p4_vec=np.append(p4_vec,x)\n",
    "    p8_vec=np.append(p8_vec,y)\n",
    "    fraction_remaning_modes=np.append(fraction_remaning_modes,n/21)"
   ]
  },
  {
   "cell_type": "code",
   "execution_count": 106,
   "id": "hired-investing",
   "metadata": {},
   "outputs": [],
   "source": [
    "pca_sh = PCA()\n",
    "pca_sh.fit(normal_data)\n",
    "expl_variance_sh=pca_sh.explained_variance_\n",
    "fractional_rank_sh=np.cumsum(expl_variance_sh[::-1])/np.sum(expl_variance_sh)"
   ]
  },
  {
   "cell_type": "code",
   "execution_count": null,
   "id": "signed-interval",
   "metadata": {},
   "outputs": [],
   "source": []
  },
  {
   "cell_type": "code",
   "execution_count": 134,
   "id": "hundred-luxembourg",
   "metadata": {},
   "outputs": [
    {
     "data": {
      "image/png": "[encoded data removed]",
      "text/plain": [
       "<Figure size 432x288 with 1 Axes>"
      ]
     },
     "metadata": {
      "needs_background": "light"
     },
     "output_type": "display_data"
    }
   ],
   "source": [
    "plt.plot(fractional_rank,expl_variance)\n",
    "plt.plot(fractional_rank_sh,expl_variance_sh)\n",
    "plt.ylim([1e-2,1e2])\n",
    "plt.yscale('log')\n",
    "plt.xscale('log')"
   ]
  },
  {
   "cell_type": "code",
   "execution_count": 135,
   "id": "insured-terrorism",
   "metadata": {},
   "outputs": [
    {
     "data": {
      "image/png": "[encoded data removed]",
      "text/plain": [
       "<Figure size 432x288 with 1 Axes>"
      ]
     },
     "metadata": {
      "needs_background": "light"
     },
     "output_type": "display_data"
    }
   ],
   "source": [
    "plt.plot(fraction_remaning_modes,p4_vec)\n",
    "plt.ylim([1e-0,1e4])\n",
    "plt.yscale('log')\n",
    "plt.xscale('log')"
   ]
  },
  {
   "cell_type": "code",
   "execution_count": 136,
   "id": "proper-ethernet",
   "metadata": {},
   "outputs": [
    {
     "data": {
      "image/png": "[encoded data removed]",
      "text/plain": [
       "<Figure size 432x288 with 1 Axes>"
      ]
     },
     "metadata": {
      "needs_background": "light"
     },
     "output_type": "display_data"
    }
   ],
   "source": [
    "plt.plot(fraction_remaning_modes,p8_vec)\n",
    "plt.ylim([1e-0,1e4])\n",
    "plt.yscale('log')\n",
    "plt.xscale('log')"
   ]
  },
  {
   "cell_type": "code",
   "execution_count": null,
   "id": "nuclear-publication",
   "metadata": {},
   "outputs": [],
   "source": []
  }
 ],
 "metadata": {
  "kernelspec": {
   "display_name": "MLpykernel",
   "language": "python",
   "name": "mlpykernel"
  },
  "language_info": {
   "codemirror_mode": {
    "name": "ipython",
    "version": 3
   },
   "file_extension": ".py",
   "mimetype": "text/x-python",
   "name": "python",
   "nbconvert_exporter": "python",
   "pygments_lexer": "ipython3",
   "version": "3.7.3"
  },
  "toc": {
   "base_numbering": 1,
   "nav_menu": {},
   "number_sections": true,
   "sideBar": true,
   "skip_h1_title": false,
   "title_cell": "Table of Contents",
   "title_sidebar": "Contents",
   "toc_cell": false,
   "toc_position": {},
   "toc_section_display": true,
   "toc_window_display": false
  }
 },
 "nbformat": 4,
 "nbformat_minor": 5
}
