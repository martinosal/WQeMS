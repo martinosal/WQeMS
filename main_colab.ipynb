{
  "cells": [
    {
      "cell_type": "code",
      "execution_count": 32,
      "id": "reserved-rocket",
      "metadata": {
        "id": "reserved-rocket"
      },
      "outputs": [],
      "source": [
        "import numpy as np\n",
        "import math\n",
        "import pandas as pd\n",
        "import matplotlib\n",
        "import matplotlib.pyplot as plt\n",
        "from matplotlib.pyplot import figure\n",
        "from matplotlib import gridspec\n",
        "from mpl_toolkits.axes_grid1 import make_axes_locatable\n",
        "\n",
        "import tensorflow as tf\n",
        "from tensorflow.keras.utils import to_categorical\n",
        "from tensorflow.keras import models\n",
        "from tensorflow.keras import layers\n",
        "from tensorflow.keras.models import Sequential\n",
        "from tensorflow.keras.initializers import RandomNormal, Constant\n",
        "from tensorflow.keras import regularizers\n",
        "\n",
        "from sklearn.utils import class_weight\n",
        "from sklearn.utils import shuffle\n",
        "from sklearn.model_selection import train_test_split\n",
        "\n",
        "\n",
        "def integral(y,x,bins):\n",
        "    x_min=x\n",
        "    s=0\n",
        "    for i in np.where(bins>x)[0][:-1]:\n",
        "#        s=s+y[i]*(bins[i+1]-bins[i])\n",
        "#        print(i,s)\n",
        "        s=s+y[i]*(bins[i+1]-bins[i])\n",
        "    return s\n",
        "\n",
        "class ROC:\n",
        "    def __init__(self,MVA_model,X_test_scaled,y_test,MVA_model_name):\n",
        "#        noise_score_1=MVA_model.predict(X_test_scaled[np.where(y_test==1)])[:,0]\n",
        "#        noise_score_0=MVA_model.predict(X_test_scaled[np.where(y_test==0)])[:,0]\n",
        "        signal_score_1=MVA_model.predict(X_test_scaled[np.where(y_test==1)])[:,1]\n",
        "        signal_score_0=MVA_model.predict(X_test_scaled[np.where(y_test==0)])[:,1]\n",
        "    \n",
        "        matplotlib.rc('font', size=12)\n",
        "        matplotlib.rc('axes', titlesize=12)\n",
        "        \n",
        "        Nbins=1000\n",
        "        bin_range=np.arange(0,Nbins+1)/Nbins\n",
        "        y_signal,bins_1,_=plt.hist(signal_score_1, bins=bin_range, alpha=1, label='Signal',histtype='step')#, density=True\n",
        "        y_bkg,bins_0,_=plt.hist(signal_score_0, bins=bin_range, alpha=1, label='Background',histtype='step')#, density=True\n",
        "        plt.yscale('log')\n",
        "        plt.legend()\n",
        "        plt.xlabel('MVA score')\n",
        "        #plt.savefig(MVA_model_name+'_score.pdf')\n",
        "        plt.show()\n",
        "\n",
        "        Nsignal=integral(y_signal,0,bins_1)\n",
        "        Nbkg=integral(y_bkg,0,bins_0)\n",
        "        signal_eff=np.array([])\n",
        "        bkg_eff=np.array([])\n",
        "        y_s=0\n",
        "        y_n=0\n",
        "        for i in range(0,Nbins+1):\n",
        "            x=i/Nbins\n",
        "            y_s=integral(y_signal,x,bins_1)/Nsignal\n",
        "            y_n=integral(y_bkg,x,bins_0)/Nbkg\n",
        "            signal_eff=np.append(signal_eff,y_s)\n",
        "            bkg_eff=np.append(bkg_eff,y_n)\n",
        "\n",
        "        #Area=round(1000*integral(signal_eff,0)/Nbins)/1000\n",
        "        res=1e5\n",
        "        Area=round(res*abs(integral(signal_eff,0,bkg_eff)))/res\n",
        "        \n",
        "        lab='Area: '+str(Area)\n",
        "        plt.plot(bkg_eff,signal_eff,label=lab)\n",
        "        plt.plot([0,1],[0,1])\n",
        "        plt.xlabel('False Positive Rate')\n",
        "        plt.ylabel('True Positive Rate')\n",
        "        #plt.xlim([0.001,1])\n",
        "        #plt.yscale('log')\n",
        "        plt.title('ROC curve')\n",
        "        plt.legend()\n",
        "#        plt.savefig('ROC_'+MVA_model_name+'.pdf')\n",
        "        plt.show()\n",
        "\n",
        "        WP=[0.90,0.94,0.97,0.99]\n",
        "        rej=1./bkg_eff\n",
        "        WP_idx=[np.where(np.abs(signal_eff-WP[i])==np.min(np.abs(signal_eff-WP[i])))[0][0] for i in range(0,len(WP))]\n",
        "        #rej[WP_idx]\n",
        "        WP_rej=[]\n",
        "        for i in range(0,len(WP)):\n",
        "          if math.isinf(rej[WP_idx[i]])==False:\n",
        "            WP_rej+=str(round(10*rej[WP_idx[i]])/10)\n",
        "          else:\n",
        "            WP_rej+='inf'\n",
        "\n",
        "#        WP_rej=[str(round(10*rej[WP_idx[i]])/10) for i in range(0,len(WP))]\n",
        "        print(WP_rej)\n",
        "\n",
        "        plt.plot(signal_eff,rej)\n",
        "        for i in range(0,len(WP)):\n",
        "            plt.axvline(x=WP[i],color='Red',linestyle='dashed',label='Bkg Rejection @ '+str(WP[i])+' WP: '+WP_rej[i])\n",
        "        plt.xlabel('Signal efficiency')\n",
        "        plt.ylabel('Background rejection')\n",
        "        plt.xlim([0.8,1])\n",
        "        plt.yscale('log')\n",
        "        plt.title('ROC curve')\n",
        "        plt.legend()\n",
        "#        plt.savefig('rejection_ROC_'+MVA_model_name+'.pdf')\n",
        "        plt.show()\n",
        "        \n",
        "        self.auc=Area\n",
        "        self.signal_eff=signal_eff\n",
        "        self.bkg_eff=bkg_eff\n",
        "        self.bkg_rej=rej\n",
        "        self.WP=WP\n",
        "        self.WP_rej=WP_rej\n",
        "        self.y_sig=y_signal\n",
        "        self.bins_sig=bins_1\n",
        "        self.y_bkg=y_bkg\n",
        "        self.bins_bkg=bins_0\n",
        "        "
      ]
    },
    {
      "cell_type": "code",
      "execution_count": 2,
      "id": "protective-filing",
      "metadata": {
        "colab": {
          "base_uri": "https://localhost:8080/"
        },
        "id": "protective-filing",
        "outputId": "661ef670-2662-4a00-b499-ec5e98be81b1"
      },
      "outputs": [
        {
          "output_type": "stream",
          "name": "stdout",
          "text": [
            "2.7.0\n"
          ]
        }
      ],
      "source": [
        "print(tf.__version__)"
      ]
    },
    {
      "cell_type": "code",
      "execution_count": 3,
      "id": "dutch-learning",
      "metadata": {
        "id": "dutch-learning"
      },
      "outputs": [],
      "source": [
        "def dense_NN():\n",
        "    n_c=32\n",
        "    model = tf.keras.Sequential(\n",
        "        [\n",
        "            #tf.keras.layers.Flatten(input_shape=(21, 2)),\n",
        "            layers.BatchNormalization(\n",
        "                momentum=0.95, \n",
        "                epsilon=0.005,\n",
        "                beta_initializer=RandomNormal(mean=0.0, stddev=0.05),#was 0.05 \n",
        "                gamma_initializer=Constant(value=0.9)\n",
        "            ),\n",
        "            tf.keras.layers.Dense(n_c, activation='relu'),\n",
        "            tf.keras.layers.Dense(n_c, activation='relu'),\n",
        "            tf.keras.layers.Dense(2, activation='softmax')\n",
        "\n",
        "        ]\n",
        "    )\n",
        "    return model"
      ]
    },
    {
      "cell_type": "code",
      "source": [
        "from google.colab import drive\n",
        "drive.mount('/content/drive')"
      ],
      "metadata": {
        "colab": {
          "base_uri": "https://localhost:8080/"
        },
        "id": "bbk7A6IE1j6L",
        "outputId": "5e6bcb61-290e-4a6d-99fa-7caa440f97e0"
      },
      "id": "bbk7A6IE1j6L",
      "execution_count": 14,
      "outputs": [
        {
          "output_type": "stream",
          "name": "stdout",
          "text": [
            "Mounted at /content/drive\n"
          ]
        }
      ]
    },
    {
      "cell_type": "code",
      "source": [
        "!ls -l /content/drive/MyDrive/WQeMS"
      ],
      "metadata": {
        "colab": {
          "base_uri": "https://localhost:8080/"
        },
        "id": "RQLBFaNy2or6",
        "outputId": "51cb7f43-0cb6-46e6-bfa5-a07834adc5b4"
      },
      "id": "RQLBFaNy2or6",
      "execution_count": 21,
      "outputs": [
        {
          "output_type": "stream",
          "name": "stdout",
          "text": [
            "total 11475\n",
            "-rw------- 1 root root 11215808 Nov 14 14:51 data.npy\n",
            "-rw------- 1 root root   534208 Nov 14 14:51 labels.npy\n"
          ]
        }
      ]
    },
    {
      "cell_type": "code",
      "source": [
        "path='/content/drive/MyDrive/WQeMS/'"
      ],
      "metadata": {
        "id": "_QPtKvkz1LBp"
      },
      "id": "_QPtKvkz1LBp",
      "execution_count": 24,
      "outputs": []
    },
    {
      "cell_type": "markdown",
      "id": "directed-shakespeare",
      "metadata": {
        "id": "directed-shakespeare"
      },
      "source": [
        "## Loading & Preprocessing dataset"
      ]
    },
    {
      "cell_type": "code",
      "execution_count": 25,
      "id": "russian-migration",
      "metadata": {
        "id": "russian-migration"
      },
      "outputs": [],
      "source": [
        "data=np.load(path+'data.npy')\n",
        "labels=np.load(path+'labels.npy')"
      ]
    },
    {
      "cell_type": "code",
      "execution_count": 26,
      "id": "legal-atlas",
      "metadata": {
        "colab": {
          "base_uri": "https://localhost:8080/"
        },
        "id": "legal-atlas",
        "outputId": "b78da326-5a42-469a-9ebb-a3e01442466e"
      },
      "outputs": [
        {
          "output_type": "execute_result",
          "data": {
            "text/plain": [
              "((66760, 21, 2), (66760,))"
            ]
          },
          "metadata": {},
          "execution_count": 26
        }
      ],
      "source": [
        "# shape: N pixels, time points, n features (VV, VH)\n",
        "# labels: flood (1) - not-flood (0)\n",
        "\n",
        "data.shape, labels.shape"
      ]
    },
    {
      "cell_type": "code",
      "execution_count": 27,
      "id": "responsible-exemption",
      "metadata": {
        "id": "responsible-exemption"
      },
      "outputs": [],
      "source": [
        "data,labels=shuffle(data,labels)  "
      ]
    },
    {
      "cell_type": "markdown",
      "id": "operating-mining",
      "metadata": {
        "id": "operating-mining"
      },
      "source": [
        "## Train and performance eval of the dense model"
      ]
    },
    {
      "cell_type": "code",
      "execution_count": 28,
      "id": "breathing-china",
      "metadata": {
        "id": "breathing-china"
      },
      "outputs": [],
      "source": [
        "test_frac=0.2\n",
        "X_train, X_test, y_train, y_test = train_test_split(data.reshape(66760,42),labels, test_size=test_frac)"
      ]
    },
    {
      "cell_type": "code",
      "execution_count": 29,
      "id": "respective-selling",
      "metadata": {
        "id": "respective-selling"
      },
      "outputs": [],
      "source": [
        "model=dense_NN()"
      ]
    },
    {
      "cell_type": "code",
      "execution_count": 30,
      "id": "alternative-valuation",
      "metadata": {
        "id": "alternative-valuation"
      },
      "outputs": [],
      "source": [
        "model.compile(loss='categorical_crossentropy',metrics = ['accuracy'])"
      ]
    },
    {
      "cell_type": "code",
      "execution_count": 31,
      "id": "optional-blogger",
      "metadata": {
        "colab": {
          "base_uri": "https://localhost:8080/"
        },
        "id": "optional-blogger",
        "outputId": "d6b453c7-f5de-4dd4-9a1e-3e4e54d6226f"
      },
      "outputs": [
        {
          "output_type": "stream",
          "name": "stdout",
          "text": [
            "418/418 [==============================] - 2s 2ms/step - loss: 0.0652 - accuracy: 0.9832\n"
          ]
        }
      ],
      "source": [
        "history=model.fit(X_train, to_categorical(y_train), \n",
        "               batch_size=128, \n",
        "               epochs=1, \n",
        "               verbose=1, \n",
        "               #validation_split=0.2,#0.1,  \n",
        "               #callbacks=[callback], \n",
        "               #class_weight=class_weights\n",
        "              )"
      ]
    },
    {
      "cell_type": "code",
      "execution_count": 33,
      "id": "involved-hearts",
      "metadata": {
        "colab": {
          "base_uri": "https://localhost:8080/",
          "height": 894
        },
        "id": "involved-hearts",
        "outputId": "646c5687-e64e-451f-d93d-00d2c45457b1"
      },
      "outputs": [
        {
          "output_type": "display_data",
          "data": {
            "image/png": "[encoded data removed]",
            "text/plain": [
              "<Figure size 432x288 with 1 Axes>"
            ]
          },
          "metadata": {
            "needs_background": "light"
          }
        },
        {
          "output_type": "display_data",
          "data": {
            "image/png": "[encoded data removed]",
            "text/plain": [
              "<Figure size 432x288 with 1 Axes>"
            ]
          },
          "metadata": {
            "needs_background": "light"
          }
        },
        {
          "output_type": "stream",
          "name": "stderr",
          "text": [
            "/usr/local/lib/python3.7/dist-packages/ipykernel_launcher.py:82: RuntimeWarning: divide by zero encountered in true_divide\n"
          ]
        },
        {
          "output_type": "error",
          "ename": "OverflowError",
          "evalue": "ignored",
          "traceback": [
            "\u001b[0;31m---------------------------------------------------------------------------\u001b[0m",
            "\u001b[0;31mOverflowError\u001b[0m                             Traceback (most recent call last)",
            "\u001b[0;32m<ipython-input-33-8ccc828b6910>\u001b[0m in \u001b[0;36m<module>\u001b[0;34m()\u001b[0m\n\u001b[0;32m----> 1\u001b[0;31m \u001b[0mNN_base\u001b[0m\u001b[0;34m=\u001b[0m\u001b[0mROC\u001b[0m\u001b[0;34m(\u001b[0m\u001b[0mmodel\u001b[0m\u001b[0;34m,\u001b[0m \u001b[0mX_test\u001b[0m\u001b[0;34m,\u001b[0m \u001b[0my_test\u001b[0m\u001b[0;34m,\u001b[0m\u001b[0;34m'NN'\u001b[0m\u001b[0;34m)\u001b[0m\u001b[0;34m\u001b[0m\u001b[0;34m\u001b[0m\u001b[0m\n\u001b[0m",
            "\u001b[0;32m<ipython-input-32-6c31012cfd55>\u001b[0m in \u001b[0;36m__init__\u001b[0;34m(self, MVA_model, X_test_scaled, y_test, MVA_model_name)\u001b[0m\n\u001b[1;32m     83\u001b[0m         \u001b[0mWP_idx\u001b[0m\u001b[0;34m=\u001b[0m\u001b[0;34m[\u001b[0m\u001b[0mnp\u001b[0m\u001b[0;34m.\u001b[0m\u001b[0mwhere\u001b[0m\u001b[0;34m(\u001b[0m\u001b[0mnp\u001b[0m\u001b[0;34m.\u001b[0m\u001b[0mabs\u001b[0m\u001b[0;34m(\u001b[0m\u001b[0msignal_eff\u001b[0m\u001b[0;34m-\u001b[0m\u001b[0mWP\u001b[0m\u001b[0;34m[\u001b[0m\u001b[0mi\u001b[0m\u001b[0;34m]\u001b[0m\u001b[0;34m)\u001b[0m\u001b[0;34m==\u001b[0m\u001b[0mnp\u001b[0m\u001b[0;34m.\u001b[0m\u001b[0mmin\u001b[0m\u001b[0;34m(\u001b[0m\u001b[0mnp\u001b[0m\u001b[0;34m.\u001b[0m\u001b[0mabs\u001b[0m\u001b[0;34m(\u001b[0m\u001b[0msignal_eff\u001b[0m\u001b[0;34m-\u001b[0m\u001b[0mWP\u001b[0m\u001b[0;34m[\u001b[0m\u001b[0mi\u001b[0m\u001b[0;34m]\u001b[0m\u001b[0;34m)\u001b[0m\u001b[0;34m)\u001b[0m\u001b[0;34m)\u001b[0m\u001b[0;34m[\u001b[0m\u001b[0;36m0\u001b[0m\u001b[0;34m]\u001b[0m\u001b[0;34m[\u001b[0m\u001b[0;36m0\u001b[0m\u001b[0;34m]\u001b[0m \u001b[0;32mfor\u001b[0m \u001b[0mi\u001b[0m \u001b[0;32min\u001b[0m \u001b[0mrange\u001b[0m\u001b[0;34m(\u001b[0m\u001b[0;36m0\u001b[0m\u001b[0;34m,\u001b[0m\u001b[0mlen\u001b[0m\u001b[0;34m(\u001b[0m\u001b[0mWP\u001b[0m\u001b[0;34m)\u001b[0m\u001b[0;34m)\u001b[0m\u001b[0;34m]\u001b[0m\u001b[0;34m\u001b[0m\u001b[0;34m\u001b[0m\u001b[0m\n\u001b[1;32m     84\u001b[0m         \u001b[0;31m#rej[WP_idx]\u001b[0m\u001b[0;34m\u001b[0m\u001b[0;34m\u001b[0m\u001b[0;34m\u001b[0m\u001b[0m\n\u001b[0;32m---> 85\u001b[0;31m         \u001b[0mWP_rej\u001b[0m\u001b[0;34m=\u001b[0m\u001b[0;34m[\u001b[0m\u001b[0mstr\u001b[0m\u001b[0;34m(\u001b[0m\u001b[0mround\u001b[0m\u001b[0;34m(\u001b[0m\u001b[0;36m10\u001b[0m\u001b[0;34m*\u001b[0m\u001b[0mrej\u001b[0m\u001b[0;34m[\u001b[0m\u001b[0mWP_idx\u001b[0m\u001b[0;34m[\u001b[0m\u001b[0mi\u001b[0m\u001b[0;34m]\u001b[0m\u001b[0;34m]\u001b[0m\u001b[0;34m)\u001b[0m\u001b[0;34m/\u001b[0m\u001b[0;36m10\u001b[0m\u001b[0;34m)\u001b[0m \u001b[0;32mfor\u001b[0m \u001b[0mi\u001b[0m \u001b[0;32min\u001b[0m \u001b[0mrange\u001b[0m\u001b[0;34m(\u001b[0m\u001b[0;36m0\u001b[0m\u001b[0;34m,\u001b[0m\u001b[0mlen\u001b[0m\u001b[0;34m(\u001b[0m\u001b[0mWP\u001b[0m\u001b[0;34m)\u001b[0m\u001b[0;34m)\u001b[0m\u001b[0;34m]\u001b[0m\u001b[0;34m\u001b[0m\u001b[0;34m\u001b[0m\u001b[0m\n\u001b[0m\u001b[1;32m     86\u001b[0m         \u001b[0mprint\u001b[0m\u001b[0;34m(\u001b[0m\u001b[0mWP_rej\u001b[0m\u001b[0;34m)\u001b[0m\u001b[0;34m\u001b[0m\u001b[0;34m\u001b[0m\u001b[0m\n\u001b[1;32m     87\u001b[0m \u001b[0;34m\u001b[0m\u001b[0m\n",
            "\u001b[0;32m<ipython-input-32-6c31012cfd55>\u001b[0m in \u001b[0;36m<listcomp>\u001b[0;34m(.0)\u001b[0m\n\u001b[1;32m     83\u001b[0m         \u001b[0mWP_idx\u001b[0m\u001b[0;34m=\u001b[0m\u001b[0;34m[\u001b[0m\u001b[0mnp\u001b[0m\u001b[0;34m.\u001b[0m\u001b[0mwhere\u001b[0m\u001b[0;34m(\u001b[0m\u001b[0mnp\u001b[0m\u001b[0;34m.\u001b[0m\u001b[0mabs\u001b[0m\u001b[0;34m(\u001b[0m\u001b[0msignal_eff\u001b[0m\u001b[0;34m-\u001b[0m\u001b[0mWP\u001b[0m\u001b[0;34m[\u001b[0m\u001b[0mi\u001b[0m\u001b[0;34m]\u001b[0m\u001b[0;34m)\u001b[0m\u001b[0;34m==\u001b[0m\u001b[0mnp\u001b[0m\u001b[0;34m.\u001b[0m\u001b[0mmin\u001b[0m\u001b[0;34m(\u001b[0m\u001b[0mnp\u001b[0m\u001b[0;34m.\u001b[0m\u001b[0mabs\u001b[0m\u001b[0;34m(\u001b[0m\u001b[0msignal_eff\u001b[0m\u001b[0;34m-\u001b[0m\u001b[0mWP\u001b[0m\u001b[0;34m[\u001b[0m\u001b[0mi\u001b[0m\u001b[0;34m]\u001b[0m\u001b[0;34m)\u001b[0m\u001b[0;34m)\u001b[0m\u001b[0;34m)\u001b[0m\u001b[0;34m[\u001b[0m\u001b[0;36m0\u001b[0m\u001b[0;34m]\u001b[0m\u001b[0;34m[\u001b[0m\u001b[0;36m0\u001b[0m\u001b[0;34m]\u001b[0m \u001b[0;32mfor\u001b[0m \u001b[0mi\u001b[0m \u001b[0;32min\u001b[0m \u001b[0mrange\u001b[0m\u001b[0;34m(\u001b[0m\u001b[0;36m0\u001b[0m\u001b[0;34m,\u001b[0m\u001b[0mlen\u001b[0m\u001b[0;34m(\u001b[0m\u001b[0mWP\u001b[0m\u001b[0;34m)\u001b[0m\u001b[0;34m)\u001b[0m\u001b[0;34m]\u001b[0m\u001b[0;34m\u001b[0m\u001b[0;34m\u001b[0m\u001b[0m\n\u001b[1;32m     84\u001b[0m         \u001b[0;31m#rej[WP_idx]\u001b[0m\u001b[0;34m\u001b[0m\u001b[0;34m\u001b[0m\u001b[0;34m\u001b[0m\u001b[0m\n\u001b[0;32m---> 85\u001b[0;31m         \u001b[0mWP_rej\u001b[0m\u001b[0;34m=\u001b[0m\u001b[0;34m[\u001b[0m\u001b[0mstr\u001b[0m\u001b[0;34m(\u001b[0m\u001b[0mround\u001b[0m\u001b[0;34m(\u001b[0m\u001b[0;36m10\u001b[0m\u001b[0;34m*\u001b[0m\u001b[0mrej\u001b[0m\u001b[0;34m[\u001b[0m\u001b[0mWP_idx\u001b[0m\u001b[0;34m[\u001b[0m\u001b[0mi\u001b[0m\u001b[0;34m]\u001b[0m\u001b[0;34m]\u001b[0m\u001b[0;34m)\u001b[0m\u001b[0;34m/\u001b[0m\u001b[0;36m10\u001b[0m\u001b[0;34m)\u001b[0m \u001b[0;32mfor\u001b[0m \u001b[0mi\u001b[0m \u001b[0;32min\u001b[0m \u001b[0mrange\u001b[0m\u001b[0;34m(\u001b[0m\u001b[0;36m0\u001b[0m\u001b[0;34m,\u001b[0m\u001b[0mlen\u001b[0m\u001b[0;34m(\u001b[0m\u001b[0mWP\u001b[0m\u001b[0;34m)\u001b[0m\u001b[0;34m)\u001b[0m\u001b[0;34m]\u001b[0m\u001b[0;34m\u001b[0m\u001b[0;34m\u001b[0m\u001b[0m\n\u001b[0m\u001b[1;32m     86\u001b[0m         \u001b[0mprint\u001b[0m\u001b[0;34m(\u001b[0m\u001b[0mWP_rej\u001b[0m\u001b[0;34m)\u001b[0m\u001b[0;34m\u001b[0m\u001b[0;34m\u001b[0m\u001b[0m\n\u001b[1;32m     87\u001b[0m \u001b[0;34m\u001b[0m\u001b[0m\n",
            "\u001b[0;31mOverflowError\u001b[0m: cannot convert float infinity to integer"
          ]
        }
      ],
      "source": [
        "NN_base=ROC(model, X_test, y_test,'NN')"
      ]
    },
    {
      "cell_type": "markdown",
      "id": "black-study",
      "metadata": {
        "id": "black-study"
      },
      "source": [
        "## CNN"
      ]
    },
    {
      "cell_type": "code",
      "execution_count": null,
      "id": "preliminary-intelligence",
      "metadata": {
        "id": "preliminary-intelligence",
        "outputId": "ebfa73e1-dbfc-47f3-ae88-d40111e0708d"
      },
      "outputs": [
        {
          "name": "stdout",
          "output_type": "stream",
          "text": [
            "(66760, 21, 2)\n"
          ]
        }
      ],
      "source": [
        "data_shape=data.shape\n",
        "print(data_shape)"
      ]
    },
    {
      "cell_type": "code",
      "execution_count": null,
      "id": "behind-drink",
      "metadata": {
        "id": "behind-drink"
      },
      "outputs": [],
      "source": [
        "test_frac=0.2\n",
        "X_train_CNN, X_test_CNN, y_train_CNN, y_test_CNN = train_test_split(data,labels, test_size=test_frac)"
      ]
    },
    {
      "cell_type": "code",
      "execution_count": null,
      "id": "chinese-prompt",
      "metadata": {
        "id": "chinese-prompt",
        "outputId": "db8aff9e-91f1-4a62-959f-1c5da52c3445"
      },
      "outputs": [
        {
          "ename": "TypeError",
          "evalue": "('Keyword argument not understood:', 'groups')",
          "output_type": "error",
          "traceback": [
            "\u001b[0;31m---------------------------------------------------------------------------\u001b[0m",
            "\u001b[0;31mTypeError\u001b[0m                                 Traceback (most recent call last)",
            "\u001b[0;32m<ipython-input-63-50ab635522b4>\u001b[0m in \u001b[0;36m<module>\u001b[0;34m\u001b[0m\n\u001b[1;32m     14\u001b[0m                         \u001b[0mactivation\u001b[0m\u001b[0;34m=\u001b[0m\u001b[0;34m'relu'\u001b[0m\u001b[0;34m,\u001b[0m\u001b[0;34m\u001b[0m\u001b[0;34m\u001b[0m\u001b[0m\n\u001b[1;32m     15\u001b[0m                         \u001b[0mgroups\u001b[0m\u001b[0;34m=\u001b[0m\u001b[0mN_FEATURES\u001b[0m\u001b[0;34m,\u001b[0m\u001b[0;34m\u001b[0m\u001b[0;34m\u001b[0m\u001b[0m\n\u001b[0;32m---> 16\u001b[0;31m                         input_shape=data_shape[1:])\n\u001b[0m\u001b[1;32m     17\u001b[0m          )\n\u001b[1;32m     18\u001b[0m \u001b[0mmodel\u001b[0m\u001b[0;34m.\u001b[0m\u001b[0madd\u001b[0m\u001b[0;34m(\u001b[0m\u001b[0mlayers\u001b[0m\u001b[0;34m.\u001b[0m\u001b[0mFlatten\u001b[0m\u001b[0;34m(\u001b[0m\u001b[0;34m)\u001b[0m\u001b[0;34m)\u001b[0m\u001b[0;34m\u001b[0m\u001b[0;34m\u001b[0m\u001b[0m\n",
            "\u001b[0;32m~/miniconda3/envs/ML/lib/python3.7/site-packages/tensorflow_core/python/keras/layers/convolutional.py\u001b[0m in \u001b[0;36m__init__\u001b[0;34m(self, filters, kernel_size, strides, padding, data_format, dilation_rate, activation, use_bias, kernel_initializer, bias_initializer, kernel_regularizer, bias_regularizer, activity_regularizer, kernel_constraint, bias_constraint, **kwargs)\u001b[0m\n\u001b[1;32m    380\u001b[0m         \u001b[0mkernel_constraint\u001b[0m\u001b[0;34m=\u001b[0m\u001b[0mconstraints\u001b[0m\u001b[0;34m.\u001b[0m\u001b[0mget\u001b[0m\u001b[0;34m(\u001b[0m\u001b[0mkernel_constraint\u001b[0m\u001b[0;34m)\u001b[0m\u001b[0;34m,\u001b[0m\u001b[0;34m\u001b[0m\u001b[0;34m\u001b[0m\u001b[0m\n\u001b[1;32m    381\u001b[0m         \u001b[0mbias_constraint\u001b[0m\u001b[0;34m=\u001b[0m\u001b[0mconstraints\u001b[0m\u001b[0;34m.\u001b[0m\u001b[0mget\u001b[0m\u001b[0;34m(\u001b[0m\u001b[0mbias_constraint\u001b[0m\u001b[0;34m)\u001b[0m\u001b[0;34m,\u001b[0m\u001b[0;34m\u001b[0m\u001b[0;34m\u001b[0m\u001b[0m\n\u001b[0;32m--> 382\u001b[0;31m         **kwargs)\n\u001b[0m\u001b[1;32m    383\u001b[0m \u001b[0;34m\u001b[0m\u001b[0m\n\u001b[1;32m    384\u001b[0m   \u001b[0;32mdef\u001b[0m \u001b[0mcall\u001b[0m\u001b[0;34m(\u001b[0m\u001b[0mself\u001b[0m\u001b[0;34m,\u001b[0m \u001b[0minputs\u001b[0m\u001b[0;34m)\u001b[0m\u001b[0;34m:\u001b[0m\u001b[0;34m\u001b[0m\u001b[0;34m\u001b[0m\u001b[0m\n",
            "\u001b[0;32m~/miniconda3/envs/ML/lib/python3.7/site-packages/tensorflow_core/python/keras/layers/convolutional.py\u001b[0m in \u001b[0;36m__init__\u001b[0;34m(self, rank, filters, kernel_size, strides, padding, data_format, dilation_rate, activation, use_bias, kernel_initializer, bias_initializer, kernel_regularizer, bias_regularizer, activity_regularizer, kernel_constraint, bias_constraint, trainable, name, **kwargs)\u001b[0m\n\u001b[1;32m    120\u001b[0m         \u001b[0mname\u001b[0m\u001b[0;34m=\u001b[0m\u001b[0mname\u001b[0m\u001b[0;34m,\u001b[0m\u001b[0;34m\u001b[0m\u001b[0;34m\u001b[0m\u001b[0m\n\u001b[1;32m    121\u001b[0m         \u001b[0mactivity_regularizer\u001b[0m\u001b[0;34m=\u001b[0m\u001b[0mregularizers\u001b[0m\u001b[0;34m.\u001b[0m\u001b[0mget\u001b[0m\u001b[0;34m(\u001b[0m\u001b[0mactivity_regularizer\u001b[0m\u001b[0;34m)\u001b[0m\u001b[0;34m,\u001b[0m\u001b[0;34m\u001b[0m\u001b[0;34m\u001b[0m\u001b[0m\n\u001b[0;32m--> 122\u001b[0;31m         **kwargs)\n\u001b[0m\u001b[1;32m    123\u001b[0m     \u001b[0mself\u001b[0m\u001b[0;34m.\u001b[0m\u001b[0mrank\u001b[0m \u001b[0;34m=\u001b[0m \u001b[0mrank\u001b[0m\u001b[0;34m\u001b[0m\u001b[0;34m\u001b[0m\u001b[0m\n\u001b[1;32m    124\u001b[0m     \u001b[0mself\u001b[0m\u001b[0;34m.\u001b[0m\u001b[0mfilters\u001b[0m \u001b[0;34m=\u001b[0m \u001b[0mfilters\u001b[0m\u001b[0;34m\u001b[0m\u001b[0;34m\u001b[0m\u001b[0m\n",
            "\u001b[0;32m~/miniconda3/envs/ML/lib/python3.7/site-packages/tensorflow_core/python/training/tracking/base.py\u001b[0m in \u001b[0;36m_method_wrapper\u001b[0;34m(self, *args, **kwargs)\u001b[0m\n\u001b[1;32m    455\u001b[0m     \u001b[0mself\u001b[0m\u001b[0;34m.\u001b[0m\u001b[0m_self_setattr_tracking\u001b[0m \u001b[0;34m=\u001b[0m \u001b[0;32mFalse\u001b[0m  \u001b[0;31m# pylint: disable=protected-access\u001b[0m\u001b[0;34m\u001b[0m\u001b[0;34m\u001b[0m\u001b[0m\n\u001b[1;32m    456\u001b[0m     \u001b[0;32mtry\u001b[0m\u001b[0;34m:\u001b[0m\u001b[0;34m\u001b[0m\u001b[0;34m\u001b[0m\u001b[0m\n\u001b[0;32m--> 457\u001b[0;31m       \u001b[0mresult\u001b[0m \u001b[0;34m=\u001b[0m \u001b[0mmethod\u001b[0m\u001b[0;34m(\u001b[0m\u001b[0mself\u001b[0m\u001b[0;34m,\u001b[0m \u001b[0;34m*\u001b[0m\u001b[0margs\u001b[0m\u001b[0;34m,\u001b[0m \u001b[0;34m**\u001b[0m\u001b[0mkwargs\u001b[0m\u001b[0;34m)\u001b[0m\u001b[0;34m\u001b[0m\u001b[0;34m\u001b[0m\u001b[0m\n\u001b[0m\u001b[1;32m    458\u001b[0m     \u001b[0;32mfinally\u001b[0m\u001b[0;34m:\u001b[0m\u001b[0;34m\u001b[0m\u001b[0;34m\u001b[0m\u001b[0m\n\u001b[1;32m    459\u001b[0m       \u001b[0mself\u001b[0m\u001b[0;34m.\u001b[0m\u001b[0m_self_setattr_tracking\u001b[0m \u001b[0;34m=\u001b[0m \u001b[0mprevious_value\u001b[0m  \u001b[0;31m# pylint: disable=protected-access\u001b[0m\u001b[0;34m\u001b[0m\u001b[0;34m\u001b[0m\u001b[0m\n",
            "\u001b[0;32m~/miniconda3/envs/ML/lib/python3.7/site-packages/tensorflow_core/python/keras/engine/base_layer.py\u001b[0m in \u001b[0;36m__init__\u001b[0;34m(self, trainable, name, dtype, dynamic, **kwargs)\u001b[0m\n\u001b[1;32m    298\u001b[0m     }\n\u001b[1;32m    299\u001b[0m     \u001b[0;31m# Validate optional keyword arguments.\u001b[0m\u001b[0;34m\u001b[0m\u001b[0;34m\u001b[0m\u001b[0;34m\u001b[0m\u001b[0m\n\u001b[0;32m--> 300\u001b[0;31m     \u001b[0mgeneric_utils\u001b[0m\u001b[0;34m.\u001b[0m\u001b[0mvalidate_kwargs\u001b[0m\u001b[0;34m(\u001b[0m\u001b[0mkwargs\u001b[0m\u001b[0;34m,\u001b[0m \u001b[0mallowed_kwargs\u001b[0m\u001b[0;34m)\u001b[0m\u001b[0;34m\u001b[0m\u001b[0;34m\u001b[0m\u001b[0m\n\u001b[0m\u001b[1;32m    301\u001b[0m \u001b[0;34m\u001b[0m\u001b[0m\n\u001b[1;32m    302\u001b[0m     \u001b[0;31m# Mutable properties\u001b[0m\u001b[0;34m\u001b[0m\u001b[0;34m\u001b[0m\u001b[0;34m\u001b[0m\u001b[0m\n",
            "\u001b[0;32m~/miniconda3/envs/ML/lib/python3.7/site-packages/tensorflow_core/python/keras/utils/generic_utils.py\u001b[0m in \u001b[0;36mvalidate_kwargs\u001b[0;34m(kwargs, allowed_kwargs, error_message)\u001b[0m\n\u001b[1;32m    597\u001b[0m   \u001b[0;32mfor\u001b[0m \u001b[0mkwarg\u001b[0m \u001b[0;32min\u001b[0m \u001b[0mkwargs\u001b[0m\u001b[0;34m:\u001b[0m\u001b[0;34m\u001b[0m\u001b[0;34m\u001b[0m\u001b[0m\n\u001b[1;32m    598\u001b[0m     \u001b[0;32mif\u001b[0m \u001b[0mkwarg\u001b[0m \u001b[0;32mnot\u001b[0m \u001b[0;32min\u001b[0m \u001b[0mallowed_kwargs\u001b[0m\u001b[0;34m:\u001b[0m\u001b[0;34m\u001b[0m\u001b[0;34m\u001b[0m\u001b[0m\n\u001b[0;32m--> 599\u001b[0;31m       \u001b[0;32mraise\u001b[0m \u001b[0mTypeError\u001b[0m\u001b[0;34m(\u001b[0m\u001b[0merror_message\u001b[0m\u001b[0;34m,\u001b[0m \u001b[0mkwarg\u001b[0m\u001b[0;34m)\u001b[0m\u001b[0;34m\u001b[0m\u001b[0;34m\u001b[0m\u001b[0m\n\u001b[0m",
            "\u001b[0;31mTypeError\u001b[0m: ('Keyword argument not understood:', 'groups')"
          ]
        }
      ],
      "source": [
        "N_FILTERS_PER_FEATURE=1\n",
        "N_FEATURES=data_shape[2]#2\n",
        "\n",
        "\n",
        "model = models.Sequential()\n",
        "#model.add(layers.BatchNormalization(\n",
        "#                momentum=0.95, \n",
        "#                epsilon=0.005,\n",
        "#                beta_initializer=RandomNormal(mean=0.0, stddev=0.05),#was 0.05 \n",
        "#                gamma_initializer=Constant(value=0.9)\n",
        "#            ))\n",
        "model.add(layers.Conv1D(filters=N_FILTERS_PER_FEATURE*N_FEATURES,\n",
        "                        kernel_size=3, \n",
        "                        activation='relu',\n",
        "                        groups=N_FEATURES,\n",
        "                        input_shape=data_shape[1:])\n",
        "         )\n",
        "model.add(layers.Flatten())\n",
        "model.add(layers.Dense(2, activation='softmax'))\n",
        "model.summary()\n",
        "\n",
        "model.compile(optimizer='adam',\n",
        "              #loss=tf.keras.losses.SparseCategoricalCrossentropy(from_logits=True),\n",
        "              loss='categorical_crossentropy',\n",
        "              metrics=['accuracy']\n",
        "             )\n"
      ]
    },
    {
      "cell_type": "code",
      "execution_count": null,
      "id": "explicit-hammer",
      "metadata": {
        "id": "explicit-hammer",
        "outputId": "6d8a0bda-7b76-4c04-b36f-20d23300f0c5"
      },
      "outputs": [
        {
          "name": "stdout",
          "output_type": "stream",
          "text": [
            "Train on 53408 samples\n",
            "Epoch 1/10\n",
            "53408/53408 [==============================] - 7s 131us/sample - loss: 0.2711 - acc: 0.9131\n",
            "Epoch 2/10\n",
            "53408/53408 [==============================] - 7s 123us/sample - loss: 0.0342 - acc: 0.9905\n",
            "Epoch 3/10\n",
            "53408/53408 [==============================] - 7s 124us/sample - loss: 0.0267 - acc: 0.9929\n",
            "Epoch 4/10\n",
            "53408/53408 [==============================] - 6s 121us/sample - loss: 0.0211 - acc: 0.9946\n",
            "Epoch 5/10\n",
            "53408/53408 [==============================] - 6s 122us/sample - loss: 0.0174 - acc: 0.9956\n",
            "Epoch 6/10\n",
            "53408/53408 [==============================] - 6s 120us/sample - loss: 0.0147 - acc: 0.9959\n",
            "Epoch 7/10\n",
            "53408/53408 [==============================] - 6s 118us/sample - loss: 0.0123 - acc: 0.9966\n",
            "Epoch 8/10\n",
            "53408/53408 [==============================] - 6s 120us/sample - loss: 0.0107 - acc: 0.9972\n",
            "Epoch 9/10\n",
            "53408/53408 [==============================] - 6s 118us/sample - loss: 0.0094 - acc: 0.9976\n",
            "Epoch 10/10\n",
            "53408/53408 [==============================] - 6s 119us/sample - loss: 0.0088 - acc: 0.9977\n"
          ]
        }
      ],
      "source": [
        "history = model.fit(X_train_CNN, to_categorical(y_train_CNN), \n",
        "                    epochs=10, \n",
        "                    verbose=1,\n",
        "                   )\n"
      ]
    },
    {
      "cell_type": "code",
      "execution_count": null,
      "id": "reliable-small",
      "metadata": {
        "id": "reliable-small",
        "outputId": "53acc00d-110d-46da-cfa8-d9b5e2b5a94e"
      },
      "outputs": [
        {
          "data": {
            "image/png": "[encoded data removed]",
            "text/plain": [
              "<Figure size 432x288 with 1 Axes>"
            ]
          },
          "metadata": {
            "needs_background": "light"
          },
          "output_type": "display_data"
        },
        {
          "data": {
            "image/png": "[encoded data removed]",
            "text/plain": [
              "<Figure size 432x288 with 1 Axes>"
            ]
          },
          "metadata": {
            "needs_background": "light"
          },
          "output_type": "display_data"
        },
        {
          "name": "stderr",
          "output_type": "stream",
          "text": [
            "/afs/le.infn.it/user/c/centonze/miniconda3/envs/ML/lib/python3.7/site-packages/ipykernel_launcher.py:82: RuntimeWarning: divide by zero encountered in true_divide\n"
          ]
        },
        {
          "name": "stdout",
          "output_type": "stream",
          "text": [
            "['2059.0', '2059.0', '2059.0', '1029.5']\n"
          ]
        },
        {
          "data": {
            "image/png": "[encoded data removed]",
            "text/plain": [
              "<Figure size 432x288 with 1 Axes>"
            ]
          },
          "metadata": {
            "needs_background": "light"
          },
          "output_type": "display_data"
        }
      ],
      "source": [
        "CNN_model=ROC(model, X_test_CNN, y_test_CNN,'CNN')"
      ]
    },
    {
      "cell_type": "code",
      "execution_count": null,
      "id": "junior-midwest",
      "metadata": {
        "id": "junior-midwest"
      },
      "outputs": [],
      "source": [
        ""
      ]
    }
  ],
  "metadata": {
    "kernelspec": {
      "display_name": "MLpykernel",
      "language": "python",
      "name": "mlpykernel"
    },
    "language_info": {
      "codemirror_mode": {
        "name": "ipython",
        "version": 3
      },
      "file_extension": ".py",
      "mimetype": "text/x-python",
      "name": "python",
      "nbconvert_exporter": "python",
      "pygments_lexer": "ipython3",
      "version": "3.7.3"
    },
    "toc": {
      "base_numbering": 1,
      "nav_menu": {},
      "number_sections": true,
      "sideBar": true,
      "skip_h1_title": false,
      "title_cell": "Table of Contents",
      "title_sidebar": "Contents",
      "toc_cell": false,
      "toc_position": {},
      "toc_section_display": true,
      "toc_window_display": false
    },
    "colab": {
      "name": "Untitled.ipynb",
      "provenance": []
    }
  },
  "nbformat": 4,
  "nbformat_minor": 5
}